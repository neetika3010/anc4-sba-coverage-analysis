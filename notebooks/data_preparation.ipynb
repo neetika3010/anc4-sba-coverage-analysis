{
 "cells": [
  {
   "cell_type": "code",
   "execution_count": null,
   "id": "4b5ad9fd",
   "metadata": {},
   "outputs": [
    {
     "ename": "ModuleNotFoundError",
     "evalue": "No module named 'user_profile'",
     "output_type": "error",
     "traceback": [
      "\u001b[0;31m---------------------------------------------------------------------------\u001b[0m",
      "\u001b[0;31mModuleNotFoundError\u001b[0m                       Traceback (most recent call last)",
      "Cell \u001b[0;32mIn[2], line 3\u001b[0m\n\u001b[1;32m      1\u001b[0m \u001b[38;5;28;01mimport\u001b[39;00m \u001b[38;5;21;01msys\u001b[39;00m\u001b[38;5;241m,\u001b[39m \u001b[38;5;21;01mos\u001b[39;00m\n\u001b[1;32m      2\u001b[0m sys\u001b[38;5;241m.\u001b[39mpath\u001b[38;5;241m.\u001b[39mappend(os\u001b[38;5;241m.\u001b[39mgetcwd())\n\u001b[0;32m----> 3\u001b[0m \u001b[38;5;28;01mfrom\u001b[39;00m \u001b[38;5;21;01muser_profile\u001b[39;00m \u001b[38;5;28;01mimport\u001b[39;00m load_file, get_project_paths\n\u001b[1;32m      5\u001b[0m paths \u001b[38;5;241m=\u001b[39m get_project_paths()\n\u001b[1;32m      7\u001b[0m \u001b[38;5;66;03m# Load data\u001b[39;00m\n",
      "\u001b[0;31mModuleNotFoundError\u001b[0m: No module named 'user_profile'"
     ]
    }
   ],
   "source": [
    "import sys, os\n",
    "#sys.path.append(os.getcwd())\n",
    "sys.path.append(os.path.abspath('..'))\n",
    "\n",
    "from user_profile import load_file, get_project_paths\n",
    "\n",
    "paths = get_project_paths()\n",
    "\n",
    "# Load data\n",
    "raw = paths['data_raw']\n",
    "df1_indicator = load_file(os.path.join(raw, 'fusion_GLOBAL_DATAFLOW_UNICEF_1.0_.MNCH_ANC4+MNCH_SAB..csv'))\n",
    "df2_track = load_file(os.path.join(raw, 'On-track and off-track countries.xlsx'), sheet_name='Sheet1', header_row=0)\n",
    "df3_estimates = load_file(os.path.join(raw, 'WPP2022_GEN_F01_DEMOGRAPHIC_INDICATORS_COMPACT_REV1.xlsx'), sheet_name='Estimates', header_row=16)\n",
    "df3_projections = load_file(os.path.join(raw, 'WPP2022_GEN_F01_DEMOGRAPHIC_INDICATORS_COMPACT_REV1.xlsx'), sheet_name='Projections', header_row=16)\n",
    "\n",
    "# Extract ISO3\n",
    "print(\"Extracting ISO3 codes and cleaning...\")\n",
    "df1_indicator['ISO3Code'] = df1_indicator['REF_AREA:Geographic area'].str.extract(r'^([A-Z]{3})')\n",
    "df3_estimates.rename(columns={'ISO3 Alpha-code': 'ISO3Code'}, inplace=True)\n",
    "df3_projections.rename(columns={'ISO3 Alpha-code': 'ISO3Code'}, inplace=True)\n",
    "\n",
    "def clean_iso_column(df, col='ISO3Code'):\n",
    "    df = df.copy()\n",
    "    df[col] = df[col].astype(str).str.strip().str.upper()\n",
    "    df = df[df[col].notna()]\n",
    "    df.drop_duplicates(subset=[col], inplace=True)\n",
    "    return df\n",
    "\n",
    "df1_indicator = clean_iso_column(df1_indicator)\n",
    "df2_track = clean_iso_column(df2_track)\n",
    "df3_estimates = clean_iso_column(df3_estimates)\n",
    "df3_projections = clean_iso_column(df3_projections)\n",
    "\n",
    "# Filter by common ISO3 codes\n",
    "codes_df1 = set(df1_indicator['ISO3Code'].dropna())\n",
    "codes_df2 = set(df2_track['ISO3Code'].dropna())\n",
    "codes_df3 = set(df3_estimates['ISO3Code'].dropna())\n",
    "codes_df4 = set(df3_projections['ISO3Code'].dropna())\n",
    "common_iso3 = codes_df1 & codes_df2 & codes_df3 & codes_df4\n",
    "\n",
    "df1_common = df1_indicator[df1_indicator['ISO3Code'].isin(common_iso3)]\n",
    "df2_common = df2_track[df2_track['ISO3Code'].isin(common_iso3)]\n",
    "df3_common_estimates = df3_estimates[df3_estimates['ISO3Code'].isin(common_iso3)]\n",
    "df3_common_projections = df3_projections[df3_projections['ISO3Code'].isin(common_iso3)]\n",
    "\n",
    "# Save processed\n",
    "processed = paths['data_processed']\n",
    "df1_common.to_csv(os.path.join(processed, 'df1_common_indicator.csv'), index=False)\n",
    "df2_common.to_csv(os.path.join(processed, 'df2_common_track.csv'), index=False)\n",
    "df3_common_estimates.to_csv(os.path.join(processed, 'df3_common_estimates.csv'), index=False)\n",
    "df3_common_projections.to_csv(os.path.join(processed, 'df3_common_projections.csv'), index=False)\n",
    "\n",
    "print(\"✅ Data preparation completed. Processed files saved.\")\n"
   ]
  }
 ],
 "metadata": {
  "kernelspec": {
   "display_name": "envname",
   "language": "python",
   "name": "envname"
  },
  "language_info": {
   "codemirror_mode": {
    "name": "ipython",
    "version": 3
   },
   "file_extension": ".py",
   "mimetype": "text/x-python",
   "name": "python",
   "nbconvert_exporter": "python",
   "pygments_lexer": "ipython3",
   "version": "3.9.21"
  }
 },
 "nbformat": 4,
 "nbformat_minor": 5
}
