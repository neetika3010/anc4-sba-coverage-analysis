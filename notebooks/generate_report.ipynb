{
 "cells": [
  {
   "cell_type": "code",
   "execution_count": null,
   "id": "9794bf8b",
   "metadata": {},
   "outputs": [],
   "source": [
    "import os\n",
    "import base64\n",
    "import pandas as pd\n",
    "import seaborn as sns\n",
    "import matplotlib.pyplot as plt\n",
    "from io import BytesIO\n",
    "import sys, os\n",
    "sys.path.append(os.path.abspath('..'))\n",
    "\n",
    "# ✅ No change to user_profile import\n",
    "from user_profile import get_project_paths\n",
    "\n",
    "notebook_dir = os.path.abspath(os.path.dirname(__file__)) if \"__file__\" in locals() else os.getcwd()\n",
    "outputs = os.path.join(notebook_dir, \"..\", \"data\", \"outputs\")\n",
    "report_dir = os.path.join(notebook_dir, \"..\", \"report\")\n",
    "summary = pd.read_csv(os.path.join(outputs, 'coverage_summary.csv'))\n",
    "\n",
    "paths = get_project_paths()\n",
    "template_path = paths['template_path']\n",
    "\n",
    "# Plot to memory buffer\n",
    "plt.figure(figsize=(8, 6))\n",
    "sns.barplot(\n",
    "    data=summary.melt(id_vars='Group', var_name='Indicator', value_name='Coverage'),\n",
    "    x='Indicator', y='Coverage', hue='Group'\n",
    ")\n",
    "plt.title('Population-Weighted Coverage by Group')\n",
    "plt.ylabel('% Coverage')\n",
    "plt.tight_layout()\n",
    "\n",
    "buf = BytesIO()\n",
    "plt.savefig(buf, format='png')\n",
    "encoded_plot = base64.b64encode(buf.getvalue()).decode('utf-8')\n",
    "buf.close()\n",
    "\n",
    "# Load template\n",
    "with open(os.path.join(template_path, \"report_template.html\"), \"r\") as f:\n",
    "    html_template = f.read()\n",
    "\n",
    "# Inject table and image\n",
    "final_html = html_template.replace(\"{{ table }}\", summary.to_html(index=False)).replace(\"{{ plot }}\", encoded_plot)\n",
    "\n",
    "# Save HTML report\n",
    "report_path = os.path.join(report_dir, 'coverage_report.html')\n",
    "with open(report_path, 'w', encoding='utf-8') as f:\n",
    "    f.write(final_html)\n",
    "\n",
    "print(f\"✅ HTML report saved at: {report_path}\")\n"
   ]
  }
 ],
 "metadata": {
  "kernelspec": {
   "display_name": "envname",
   "language": "python",
   "name": "envname"
  },
  "language_info": {
   "name": "python",
   "version": "3.9.21"
  }
 },
 "nbformat": 4,
 "nbformat_minor": 5
}
