{
 "cells": [
  {
   "cell_type": "code",
   "execution_count": null,
   "id": "2d657eff",
   "metadata": {},
   "outputs": [
    {
     "ename": "ModuleNotFoundError",
     "evalue": "No module named 'user_profile'",
     "output_type": "error",
     "traceback": [
      "\u001b[0;31m---------------------------------------------------------------------------\u001b[0m",
      "\u001b[0;31mModuleNotFoundError\u001b[0m                       Traceback (most recent call last)",
      "Cell \u001b[0;32mIn[2], line 3\u001b[0m\n\u001b[1;32m      1\u001b[0m \u001b[38;5;28;01mimport\u001b[39;00m \u001b[38;5;21;01mpandas\u001b[39;00m \u001b[38;5;28;01mas\u001b[39;00m \u001b[38;5;21;01mpd\u001b[39;00m\n\u001b[1;32m      2\u001b[0m \u001b[38;5;28;01mimport\u001b[39;00m \u001b[38;5;21;01mos\u001b[39;00m\n\u001b[0;32m----> 3\u001b[0m \u001b[38;5;28;01mfrom\u001b[39;00m \u001b[38;5;21;01muser_profile\u001b[39;00m \u001b[38;5;28;01mimport\u001b[39;00m get_project_paths\n\u001b[1;32m      5\u001b[0m paths \u001b[38;5;241m=\u001b[39m get_project_paths()\n\u001b[1;32m      6\u001b[0m processed \u001b[38;5;241m=\u001b[39m paths[\u001b[38;5;124m'\u001b[39m\u001b[38;5;124mdata_processed\u001b[39m\u001b[38;5;124m'\u001b[39m]\n",
      "\u001b[0;31mModuleNotFoundError\u001b[0m: No module named 'user_profile'"
     ]
    }
   ],
   "source": [
    "import sys, os\n",
    "#sys.path.append(os.getcwd())\n",
    "sys.path.append(os.path.abspath('..'))\n",
    "\n",
    "import pandas as pd\n",
    "import os\n",
    "from user_profile import get_project_paths\n",
    "\n",
    "paths = get_project_paths()\n",
    "processed = paths['data_processed']\n",
    "\n",
    "df1 = pd.read_csv(os.path.join(processed, 'df1_common_indicator.csv'))\n",
    "df2 = pd.read_csv(os.path.join(processed, 'df2_common_track.csv'))\n",
    "df3e = pd.read_csv(os.path.join(processed, 'df3_common_estimates.csv'))\n",
    "df3p = pd.read_csv(os.path.join(processed, 'df3_common_projections.csv'))\n",
    "\n",
    "# Missing value summary\n",
    "def check_missing_values(df_dict):\n",
    "    for name, df in df_dict.items():\n",
    "        print(f\"\\n🔍 Missing values in {name}:\")\n",
    "        print(df.isna().sum().sort_values(ascending=False).head(10))\n",
    "\n",
    "# Duplicate summary\n",
    "def check_duplicates(df_dict):\n",
    "    for name, df in df_dict.items():\n",
    "        print(f\"📎 Duplicate rows in {name}: {df.duplicated().sum()}\")\n",
    "\n",
    "check_missing_values({\n",
    "    'df1_common': df1,\n",
    "    'df2_common': df2,\n",
    "    'df3_estimates': df3e,\n",
    "    'df3_projections': df3p\n",
    "})\n",
    "\n",
    "check_duplicates({\n",
    "    'df1_common': df1,\n",
    "    'df2_common': df2,\n",
    "    'df3_estimates': df3e,\n",
    "    'df3_projections': df3p\n",
    "})\n"
   ]
  }
 ],
 "metadata": {
  "kernelspec": {
   "display_name": "envname",
   "language": "python",
   "name": "envname"
  },
  "language_info": {
   "codemirror_mode": {
    "name": "ipython",
    "version": 3
   },
   "file_extension": ".py",
   "mimetype": "text/x-python",
   "name": "python",
   "nbconvert_exporter": "python",
   "pygments_lexer": "ipython3",
   "version": "3.9.21"
  }
 },
 "nbformat": 4,
 "nbformat_minor": 5
}
